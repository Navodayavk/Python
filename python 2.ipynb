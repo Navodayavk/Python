{
 "cells": [
  {
   "cell_type": "code",
   "execution_count": 24,
   "id": "190c8455-5197-4ef7-901e-0d81598aabf9",
   "metadata": {},
   "outputs": [
    {
     "name": "stdout",
     "output_type": "stream",
     "text": [
      "element is present at index 3\n"
     ]
    }
   ],
   "source": [
    "#1. python program for linear search iterative approach\n",
    "\n",
    "def linear_search(arr,x):\n",
    "\n",
    "    for i in range(len(arr)):\n",
    "        if arr[i] == x:\n",
    "            return i\n",
    "    return 1\n",
    "\n",
    "my_list = [2, 4, 0, 1, 9]\n",
    "target = 1\n",
    "result = linear_search(my_list,target)\n",
    "\n",
    "if result != 1:\n",
    "    print(\"element is present at index\",result)\n",
    "else:\n",
    "    print(\"element is not present in array\")"
   ]
  },
  {
   "cell_type": "code",
   "execution_count": 25,
   "id": "fdaa78b8-c111-4408-9df2-a0a61f69a446",
   "metadata": {},
   "outputs": [
    {
     "name": "stdout",
     "output_type": "stream",
     "text": [
      "sorted array: [11, 14, 25, 27, 40, 53]\n"
     ]
    }
   ],
   "source": [
    "#2.python program for implementation of bubble sort\n",
    "\n",
    "def bubble_sort(arr):\n",
    "    n = len(arr)\n",
    "    for i in range(n-1):\n",
    "        for j in range(0, n-i-1):\n",
    "            if arr[j] > arr[j + 1]:\n",
    "                arr[j], arr[j + 1] = arr[j + 1], arr[j]\n",
    "    return arr \n",
    "\n",
    "my_array = [14, 53, 25, 27, 11, 40]\n",
    "sorted_array = bubble_sort(my_array)\n",
    "print(\"sorted array:\", sorted_array)"
   ]
  },
  {
   "cell_type": "code",
   "execution_count": 36,
   "id": "a933a1ff-a2a9-4137-b36c-dafd9fe20610",
   "metadata": {},
   "outputs": [
    {
     "name": "stdout",
     "output_type": "stream",
     "text": [
      "sorted array: [11, 14, 25, 27, 40, 53]\n"
     ]
    }
   ],
   "source": [
    "#3.python program for insertion sort\n",
    "\n",
    "def insertion_sort(arr):\n",
    "    \n",
    "    for i in range(1,len(arr)):\n",
    "        key = arr[i]\n",
    "        j = i-1\n",
    "        while j >=0 and key < arr[j] :\n",
    "                arr[j+1] = arr[j]\n",
    "                j -= 1\n",
    "        arr[j+1] = key\n",
    "    return arr\n",
    "\n",
    "sorted_array = insertion_sort(my_array)\n",
    "print(\"sorted array:\",sorted_array)   "
   ]
  },
  {
   "cell_type": "code",
   "execution_count": 38,
   "id": "b4d3f90f-da9d-4b3a-977a-4e95786d84a4",
   "metadata": {},
   "outputs": [
    {
     "name": "stdout",
     "output_type": "stream",
     "text": [
      "sorted array: [11, 14, 25, 27, 40, 53]\n"
     ]
    }
   ],
   "source": [
    "#4. python program for recursive insertion sort\n",
    "\n",
    "def insertion_sort_recursive(arr, n):\n",
    "    if n <= 1:\n",
    "        return \n",
    "    insertion_sort_recursive(arr,n - 1)\n",
    "    last = arr[n -1]\n",
    "    j = n - 2\n",
    "\n",
    "    while (j >= 0 and arr[j] > last):\n",
    "        arr[j+1] = arr[j]\n",
    "        j = j - 1\n",
    "\n",
    "    arr[j + 1] = last\n",
    "\n",
    "my_array = [14, 53, 25, 27, 11, 40]\n",
    "insertion_sort_recursive(my_array, len(my_array))\n",
    "print(\"sorted array:\", my_array)\n",
    "    "
   ]
  },
  {
   "cell_type": "code",
   "execution_count": 40,
   "id": "209e0668-bcbb-43ba-991a-3e683c0e24e4",
   "metadata": {},
   "outputs": [
    {
     "name": "stdout",
     "output_type": "stream",
     "text": [
      "checking element at index 0: 2\n",
      "checking element at index 1: 4\n",
      "checking element at index 2: 0\n",
      "checking element at index 3: 1\n",
      "element is not present in the array\n"
     ]
    }
   ],
   "source": [
    "#5. python program for linear search\n",
    "\n",
    "def linear_search(arr,x):\n",
    "    for i in range (len(arr)):\n",
    "        print(f\"checking element at index {i}: {arr[i]}\") \n",
    "        if arr[i] == x:\n",
    "            return -1\n",
    "\n",
    "my_list = [2, 4, 0, 1, 9]\n",
    "target = 1\n",
    "result = linear_search(my_list,target)\n",
    "\n",
    "if result != -1:\n",
    "    print(\"element is present at index\",str(result))\n",
    "\n",
    "else:\n",
    "    print(\"element is not present in the array\")\n",
    "            \n",
    "\n"
   ]
  },
  {
   "cell_type": "code",
   "execution_count": 1,
   "id": "7b375ae8-15ae-460c-a364-f7f59e4c7297",
   "metadata": {},
   "outputs": [
    {
     "name": "stdout",
     "output_type": "stream",
     "text": [
      "Eigenvalues: [-0.37228132  5.37228132]\n",
      "Eigenvectors:\n",
      " [[-0.82456484 -0.41597356]\n",
      " [ 0.56576746 -0.90937671]]\n"
     ]
    }
   ],
   "source": [
    "#6.python program to compute the eigenvalues and right eigrnvectors of a given square array\n",
    "import numpy as np\n",
    "\n",
    "def compute_eigenvalues_eigenvectors(array):\n",
    "   try:\n",
    "        eigenvalues, eigenvectors = np.linalg.eig(array)\n",
    "        return eigenvalues, eigenvectors\n",
    "   except np.linalg.LinAlgError:\n",
    "        print(\"Error: Input array is not a valid square array.\")\n",
    "        return None\n",
    "\n",
    "\n",
    "square_array = np.array([[1, 2], [3, 4]])\n",
    "results = compute_eigenvalues_eigenvectors(square_array)\n",
    "\n",
    "if results:\n",
    "  eigenvalues, eigenvectors = results\n",
    "  print(\"Eigenvalues:\", eigenvalues)\n",
    "  print(\"Eigenvectors:\\n\", eigenvectors)\n",
    "        "
   ]
  },
  {
   "cell_type": "code",
   "execution_count": 3,
   "id": "5069964a-25d5-4a49-9705-1a054a36f9b6",
   "metadata": {},
   "outputs": [
    {
     "name": "stdout",
     "output_type": "stream",
     "text": [
      "Element at (0,1,2): 6\n",
      "Element at (1,0,1): 8\n",
      "Invalid indices provided.\n",
      "Element at (2,0,0): None\n"
     ]
    }
   ],
   "source": [
    "#7.Python program to acess Data Along Multiple Dimensions Arrays in Python Numpy\n",
    "\n",
    "import numpy as np\n",
    "\n",
    "def access_elements(arr, indices):\n",
    "\n",
    "    try:\n",
    "        element = arr[indices]\n",
    "        return element\n",
    "    except IndexError:\n",
    "        print(\"Invalid indices provided.\")\n",
    "        return None\n",
    "\n",
    "my_array = np.array([[[1, 2, 3], [4, 5, 6]], [[7, 8, 9], [10, 11, 12]]])\n",
    "\n",
    "element_1 = access_elements(my_array, (0, 1, 2))\n",
    "print(f\"Element at (0,1,2): {element_1}\")\n",
    "\n",
    "element_2 = access_elements(my_array, (1, 0, 1))\n",
    "print(f\"Element at (1,0,1): {element_2}\")\n",
    "\n",
    "element_3 = access_elements(my_array, (2, 0, 0))\n",
    "print(f\"Element at (2,0,0): {element_3}\")"
   ]
  },
  {
   "cell_type": "code",
   "execution_count": 5,
   "id": "ef9cf13b-8fe2-4856-ad69-10bcb12d86dd",
   "metadata": {},
   "outputs": [
    {
     "name": "stdout",
     "output_type": "stream",
     "text": [
      "Merged DataFrame:\n",
      "  key   A   B   C   D\n",
      "0  K0  A0  B0  C0  D0\n",
      "1  K1  A1  B1  C1  D1\n",
      "2  K2  A2  B2  C2  D2\n",
      "3  K3  A3  B3  C3  D3\n",
      "\n",
      "Joined DataFrame:\n",
      "  key   A   B   C   D\n",
      "0  K0  A0  B0  C0  D0\n",
      "1  K1  A1  B1  C1  D1\n",
      "2  K2  A2  B2  C2  D2\n",
      "3  K3  A3  B3  C3  D3\n",
      "\n",
      "Concatenated DataFrame:\n"
     ]
    },
    {
     "data": {
      "text/html": [
       "<div>\n",
       "<style scoped>\n",
       "    .dataframe tbody tr th:only-of-type {\n",
       "        vertical-align: middle;\n",
       "    }\n",
       "\n",
       "    .dataframe tbody tr th {\n",
       "        vertical-align: top;\n",
       "    }\n",
       "\n",
       "    .dataframe thead th {\n",
       "        text-align: right;\n",
       "    }\n",
       "</style>\n",
       "<table border=\"1\" class=\"dataframe\">\n",
       "  <thead>\n",
       "    <tr style=\"text-align: right;\">\n",
       "      <th></th>\n",
       "      <th>key</th>\n",
       "      <th>A</th>\n",
       "      <th>B</th>\n",
       "      <th>C</th>\n",
       "      <th>D</th>\n",
       "    </tr>\n",
       "  </thead>\n",
       "  <tbody>\n",
       "    <tr>\n",
       "      <th>0</th>\n",
       "      <td>K0</td>\n",
       "      <td>A0</td>\n",
       "      <td>B0</td>\n",
       "      <td>NaN</td>\n",
       "      <td>NaN</td>\n",
       "    </tr>\n",
       "    <tr>\n",
       "      <th>1</th>\n",
       "      <td>K1</td>\n",
       "      <td>A1</td>\n",
       "      <td>B1</td>\n",
       "      <td>NaN</td>\n",
       "      <td>NaN</td>\n",
       "    </tr>\n",
       "    <tr>\n",
       "      <th>2</th>\n",
       "      <td>K2</td>\n",
       "      <td>A2</td>\n",
       "      <td>B2</td>\n",
       "      <td>NaN</td>\n",
       "      <td>NaN</td>\n",
       "    </tr>\n",
       "    <tr>\n",
       "      <th>3</th>\n",
       "      <td>K3</td>\n",
       "      <td>A3</td>\n",
       "      <td>B3</td>\n",
       "      <td>NaN</td>\n",
       "      <td>NaN</td>\n",
       "    </tr>\n",
       "    <tr>\n",
       "      <th>4</th>\n",
       "      <td>K0</td>\n",
       "      <td>NaN</td>\n",
       "      <td>NaN</td>\n",
       "      <td>C0</td>\n",
       "      <td>D0</td>\n",
       "    </tr>\n",
       "    <tr>\n",
       "      <th>5</th>\n",
       "      <td>K1</td>\n",
       "      <td>NaN</td>\n",
       "      <td>NaN</td>\n",
       "      <td>C1</td>\n",
       "      <td>D1</td>\n",
       "    </tr>\n",
       "    <tr>\n",
       "      <th>6</th>\n",
       "      <td>K2</td>\n",
       "      <td>NaN</td>\n",
       "      <td>NaN</td>\n",
       "      <td>C2</td>\n",
       "      <td>D2</td>\n",
       "    </tr>\n",
       "    <tr>\n",
       "      <th>7</th>\n",
       "      <td>K3</td>\n",
       "      <td>NaN</td>\n",
       "      <td>NaN</td>\n",
       "      <td>C3</td>\n",
       "      <td>D3</td>\n",
       "    </tr>\n",
       "  </tbody>\n",
       "</table>\n",
       "</div>"
      ],
      "text/plain": [
       "  key    A    B    C    D\n",
       "0  K0   A0   B0  NaN  NaN\n",
       "1  K1   A1   B1  NaN  NaN\n",
       "2  K2   A2   B2  NaN  NaN\n",
       "3  K3   A3   B3  NaN  NaN\n",
       "4  K0  NaN  NaN   C0   D0\n",
       "5  K1  NaN  NaN   C1   D1\n",
       "6  K2  NaN  NaN   C2   D2\n",
       "7  K3  NaN  NaN   C3   D3"
      ]
     },
     "execution_count": 5,
     "metadata": {},
     "output_type": "execute_result"
    }
   ],
   "source": [
    "#8.Python Pandas program for Merging, Joining, and Concatenating\n",
    "\n",
    "import pandas as pd\n",
    "\n",
    "data1 = {'key': ['K0', 'K1', 'K2', 'K3'],\n",
    "         'A': ['A0', 'A1', 'A2', 'A3'],\n",
    "         'B': ['B0', 'B1', 'B2', 'B3']}\n",
    "df1 = pd.DataFrame(data1)\n",
    "\n",
    "\n",
    "data2 = {'key': ['K0', 'K1', 'K2', 'K3'],\n",
    "         'C': ['C0', 'C1', 'C2', 'C3'],\n",
    "         'D': ['D0', 'D1', 'D2', 'D3']}\n",
    "df2 = pd.DataFrame(data2)\n",
    "\n",
    "merged_df = pd.merge(df1, df2, on='key')\n",
    "print(\"Merged DataFrame:\")\n",
    "print(merged_df)\n",
    "\n",
    "\n",
    "joined_df = df1.join(df2.set_index('key'), on='key')\n",
    "print(\"\\nJoined DataFrame:\")\n",
    "print(joined_df)\n",
    "\n",
    "concatenated_df = pd.concat([df1, df2], axis=0, ignore_index=True)\n",
    "print(\"\\nConcatenated DataFrame:\")\n",
    "concatenated_df"
   ]
  },
  {
   "cell_type": "code",
   "execution_count": 7,
   "id": "db7f109c-db10-4382-8082-b1da1ba63341",
   "metadata": {},
   "outputs": [
    {
     "name": "stdout",
     "output_type": "stream",
     "text": [
      "30\n",
      "False\n",
      "20\n",
      "10\n",
      "True\n"
     ]
    }
   ],
   "source": [
    "#9.Python program to demonstrate stack implementation using list\n",
    "\n",
    "class Stack:\n",
    "    def __init__(self):\n",
    "        self.items = []\n",
    "\n",
    "    def is_empty(self):\n",
    "        return len(self.items) == 0\n",
    "\n",
    "    def push(self, item):\n",
    "        self.items.append(item)\n",
    "\n",
    "    def pop(self):\n",
    "        if not self.is_empty():\n",
    "            return self.items.pop()\n",
    "        else:\n",
    "            raise IndexError(\"Stack is empty\")\n",
    "\n",
    "\n",
    "stack = Stack()\n",
    "stack.push(10)\n",
    "stack.push(20)\n",
    "stack.push(30)\n",
    "\n",
    "print(stack.pop())\n",
    "print(stack.is_empty())\n",
    "print(stack.pop())\n",
    "print(stack.pop())\n",
    "print(stack.is_empty())"
   ]
  },
  {
   "cell_type": "code",
   "execution_count": 9,
   "id": "fb0eba35-20ca-4067-83ed-a2c6a7ecb013",
   "metadata": {},
   "outputs": [
    {
     "name": "stdout",
     "output_type": "stream",
     "text": [
      "30\n",
      "2\n",
      "20\n"
     ]
    }
   ],
   "source": [
    "#10.Python program to demonstrate stack implementation using queue module\n",
    "\n",
    "from queue import LifoQueue\n",
    "\n",
    "stack = LifoQueue()\n",
    "\n",
    "stack.put(10)\n",
    "stack.put(20)\n",
    "stack.put(30)\n",
    "\n",
    "print(stack.get())\n",
    "print(stack.qsize())\n",
    "print(stack.get())"
   ]
  },
  {
   "cell_type": "code",
   "execution_count": 11,
   "id": "c4c543cc-977c-493d-8e21-52fa0087acae",
   "metadata": {},
   "outputs": [
    {
     "name": "stdout",
     "output_type": "stream",
     "text": [
      "10\n",
      "20\n",
      "1\n",
      "False\n",
      "30\n",
      "True\n"
     ]
    }
   ],
   "source": [
    "#11.Python program to implement queue\n",
    "\n",
    "from queue import Queue\n",
    "\n",
    "my_queue = Queue()\n",
    "\n",
    "my_queue.put(10)\n",
    "my_queue.put(20)\n",
    "my_queue.put(30)\n",
    "\n",
    "print(my_queue.get())\n",
    "print(my_queue.get())\n",
    "\n",
    "print(my_queue.qsize())\n",
    "\n",
    "print(my_queue.empty())\n",
    "\n",
    "print(my_queue.get())\n",
    "\n",
    "print(my_queue.empty())"
   ]
  },
  {
   "cell_type": "code",
   "execution_count": 13,
   "id": "2e8499c5-0482-4095-9611-5baf9722be79",
   "metadata": {},
   "outputs": [
    {
     "name": "stdout",
     "output_type": "stream",
     "text": [
      "Sorted words: ['apple', 'banana', 'mango', 'orange']\n"
     ]
    }
   ],
   "source": [
    "#12.Python Program to Sort Words in Alphabetic Order\n",
    "\n",
    "def sort_words(words):\n",
    "    return sorted(words)\n",
    "\n",
    "my_words = [\"banana\", \"apple\", \"mango\", \"orange\"]\n",
    "sorted_words = sort_words(my_words)\n",
    "print(\"Sorted words:\", sorted_words)"
   ]
  },
  {
   "cell_type": "code",
   "execution_count": 15,
   "id": "e68f4e8b-7ef8-4da6-81cd-b2210e1bdd67",
   "metadata": {},
   "outputs": [
    {
     "name": "stdout",
     "output_type": "stream",
     "text": [
      "Original matrix:\n",
      "[1, 2, 3]\n",
      "[4, 5, 6]\n",
      "\n",
      "Transposed matrix:\n",
      "[1, 4]\n",
      "[2, 5]\n",
      "[3, 6]\n",
      "[[1 4]\n",
      " [2 5]\n",
      " [3 6]]\n"
     ]
    }
   ],
   "source": [
    "#13.Python Program to Transpose a Matrix\n",
    "\n",
    "import numpy as np\n",
    "\n",
    "def transpose_matrix(matrix):\n",
    "    rows = len(matrix)\n",
    "    cols = len(matrix[0]) if rows > 0 else 0\n",
    "    transposed_matrix = [[0 for _ in range(rows)] for _ in range(cols)]\n",
    "    for i in range(rows):\n",
    "        for j in range(cols):\n",
    "            transposed_matrix[j][i] = matrix[i][j]\n",
    "    return transposed_matrix\n",
    "\n",
    "matrix = [[1, 2, 3], [4, 5, 6]]\n",
    "transposed = transpose_matrix(matrix)\n",
    "print(\"Original matrix:\")\n",
    "for row in matrix:\n",
    "    print(row)\n",
    "print(\"\\nTransposed matrix:\")\n",
    "for row in transposed:\n",
    "    print(row)\n",
    "\n",
    "matrix = np.array([[1,2,3],[4,5,6]])\n",
    "print(matrix.transpose())"
   ]
  },
  {
   "cell_type": "code",
   "execution_count": 17,
   "id": "9210e5a7-689e-4b68-9168-8e840ae8a532",
   "metadata": {},
   "outputs": [
    {
     "name": "stdout",
     "output_type": "stream",
     "text": [
      "Hello world This is a string with punctuation\n"
     ]
    }
   ],
   "source": [
    "#14.Python Program to Remove Punctuations From a String\n",
    "\n",
    "import string\n",
    "\n",
    "def remove_punctuation(input_string):\n",
    "    translator = str.maketrans('', '', string.punctuation)\n",
    "    return input_string.translate(translator)\n",
    "\n",
    "text = \"Hello, world! This is a string with punctuation.\"\n",
    "cleaned_text = remove_punctuation(text)\n",
    "print(cleaned_text)"
   ]
  },
  {
   "cell_type": "code",
   "execution_count": 19,
   "id": "8d89eb95-05e5-47b2-8bf3-6e00d4f24079",
   "metadata": {},
   "outputs": [
    {
     "name": "stdout",
     "output_type": "stream",
     "text": [
      "Error: Source file '/content/drive/MyDrive/Python Programming/source.txt' not found.\n"
     ]
    }
   ],
   "source": [
    "#15.Python Program to Copy a File\n",
    "\n",
    "import shutil\n",
    "\n",
    "def copy_file(source_path, destination_path):\n",
    "    try:\n",
    "        shutil.copy2(source_path, destination_path)\n",
    "        print(f\"File '{source_path}' copied successfully to '{destination_path}'\")\n",
    "    except FileNotFoundError:\n",
    "        print(f\"Error: Source file '{source_path}' not found.\")\n",
    "    except PermissionError:\n",
    "        print(f\"Error: Permission denied when copying to '{destination_path}'\")\n",
    "    except Exception as e:\n",
    "        print(f\"An error occurred: {e}\")\n",
    "\n",
    "source_file = \"/content/drive/MyDrive/Python Programming/source.txt\"\n",
    "destination_file = \"/content/drive/MyDrive/Python Programming/destination.txt\"\n",
    "\n",
    "copy_file(source_file, destination_file)"
   ]
  },
  {
   "cell_type": "code",
   "execution_count": 21,
   "id": "20776e59-9412-4c0a-aa61-6679fb4ccfce",
   "metadata": {},
   "outputs": [
    {
     "name": "stdout",
     "output_type": "stream",
     "text": [
      "[1, 2, 3, 4, 5, 6]\n"
     ]
    }
   ],
   "source": [
    "#16.Python Program to Concatenate Two Lists\n",
    "\n",
    "def concatenate_lists(list1, list2):\n",
    "    return list1 + list2\n",
    "\n",
    "list1 = [1, 2, 3]\n",
    "list2 = [4, 5, 6]\n",
    "concatenated_list = concatenate_lists(list1, list2)\n",
    "print(concatenated_list)"
   ]
  },
  {
   "cell_type": "code",
   "execution_count": 23,
   "id": "2ebbce01-2662-4681-b23d-769a78771a97",
   "metadata": {},
   "outputs": [
    {
     "name": "stdout",
     "output_type": "stream",
     "text": [
      "Key is present in the dictionary.\n",
      "Key is not present in the dictionary.\n"
     ]
    }
   ],
   "source": [
    "#17.Python Program to Check if a Key is Already Present in a Dictionary\n",
    "\n",
    "def check_key(dict, key):\n",
    "    if key in dict:\n",
    "        print(\"Key is present in the dictionary.\")\n",
    "    else:\n",
    "        print(\"Key is not present in the dictionary.\")\n",
    "\n",
    "my_dict = {\"name\": \"Alice\", \"age\": 30, \"city\": \"New York\"}\n",
    "key_to_check = \"age\"\n",
    "\n",
    "check_key(my_dict, key_to_check)\n",
    "key_to_check = \"country\"\n",
    "check_key(my_dict, key_to_check)"
   ]
  },
  {
   "cell_type": "code",
   "execution_count": 25,
   "id": "74db2f79-ba70-4cc5-9510-257006fd062a",
   "metadata": {},
   "outputs": [
    {
     "name": "stdout",
     "output_type": "stream",
     "text": [
      "Parsed float: 3.141\n",
      "Parsed int: 3\n"
     ]
    }
   ],
   "source": [
    "#18.Python Program to Parse a String to a Float or Int\n",
    "\n",
    "def parse_string(input_string, target_type):\n",
    "    try:\n",
    "        if target_type == \"float\":\n",
    "            return float(input_string)\n",
    "\n",
    "        elif target_type == \"int\":\n",
    "            return int(float(input_string))\n",
    "        else:\n",
    "            raise ValueError(\"Invalid target type. Use 'float' or 'int'.\")\n",
    "    except ValueError as e:\n",
    "        print(f\"Error: {e}\")\n",
    "\n",
    "        return None\n",
    "\n",
    "string_to_parse = \"3.141\"\n",
    "float_result = parse_string(string_to_parse, \"float\")\n",
    "int_result = parse_string(string_to_parse, \"int\")\n",
    "\n",
    "print(f\"Parsed float: {float_result}\")\n",
    "print(f\"Parsed int: {int_result}\")"
   ]
  },
  {
   "cell_type": "code",
   "execution_count": 27,
   "id": "cc7c084c-a1ca-4499-923f-6370d6ef339e",
   "metadata": {},
   "outputs": [
    {
     "name": "stdout",
     "output_type": "stream",
     "text": [
      "2024-07-26 00:00:00\n",
      "<class 'datetime.datetime'>\n"
     ]
    }
   ],
   "source": [
    "#19.Python Program to Convert String to Datetime\n",
    "\n",
    "from datetime import datetime\n",
    "\n",
    "def convert_string_to_datetime(date_string, format_string):\n",
    "    try:\n",
    "        datetime_object = datetime.strptime(date_string, format_string)\n",
    "        return datetime_object\n",
    "    except ValueError:\n",
    "        print(\"Invalid date string or format.\")\n",
    "        return None\n",
    "\n",
    "date_string = \"2024-07-26\"\n",
    "format_string = \"%Y-%m-%d\"\n",
    "\n",
    "datetime_object = convert_string_to_datetime(date_string, format_string)\n",
    "\n",
    "if datetime_object:\n",
    "    print(datetime_object)\n",
    "    print(type(datetime_object))"
   ]
  },
  {
   "cell_type": "code",
   "execution_count": 29,
   "id": "56e21673-fc5d-4c6a-936e-1c6976dd4e7f",
   "metadata": {},
   "outputs": [
    {
     "name": "stdout",
     "output_type": "stream",
     "text": [
      "5\n"
     ]
    }
   ],
   "source": [
    "#20.Python Program to Get the Last Element of the List\n",
    "\n",
    "def get_last_element(input_list):\n",
    "    return input_list[-1]\n",
    "\n",
    "my_list = [1, 2, 3, 4, 5]\n",
    "last_element = get_last_element(my_list)\n",
    "print(last_element)"
   ]
  },
  {
   "cell_type": "code",
   "execution_count": 31,
   "id": "147a2ce3-459a-41cb-8559-34628e91ff41",
   "metadata": {},
   "outputs": [
    {
     "name": "stdout",
     "output_type": "stream",
     "text": [
      "Bytes: b'Hello, World!'\n",
      "String: Hello, World!\n"
     ]
    }
   ],
   "source": [
    "#21.Python Program to Convert Bytes to a String\n",
    "\n",
    "byte_data = b'Hello, World!'\n",
    "\n",
    "string_data = byte_data.decode('utf-8')\n",
    "\n",
    "print(\"Bytes:\", byte_data)\n",
    "print(\"String:\", string_data)"
   ]
  },
  {
   "cell_type": "code",
   "execution_count": 33,
   "id": "04b8ee83-af56-4ff1-aa3e-549985523940",
   "metadata": {},
   "outputs": [
    {
     "name": "stdout",
     "output_type": "stream",
     "text": [
      "[1, 2, 3, 4, 5]\n"
     ]
    }
   ],
   "source": [
    "#22.Python Program to Remove Duplicate Element From a List\n",
    "\n",
    "def remove_duplicates(input_list):\n",
    "    return list(set(input_list))\n",
    "\n",
    "my_list = [1, 2, 2, 3, 4, 4, 5]\n",
    "unique_list = remove_duplicates(my_list)\n",
    "print(remove_duplicates(my_list))"
   ]
  },
  {
   "cell_type": "code",
   "execution_count": 35,
   "id": "5f0449b9-22f1-4173-aa7f-e30fbdad2d8f",
   "metadata": {},
   "outputs": [
    {
     "name": "stdout",
     "output_type": "stream",
     "text": [
      "The character 'o' occurs 2 times in the string.\n"
     ]
    }
   ],
   "source": [
    "#23.Python Program to Count the Number of Occurrence of a Character in String\n",
    "\n",
    "def count_character(string, char):\n",
    "    return string.count(char)\n",
    "\n",
    "string = \"hello world\"\n",
    "char = \"o\"\n",
    "\n",
    "count = count_character(string, char)\n",
    "print(f\"The character '{char}' occurs {count} times in the string.\")"
   ]
  },
  {
   "cell_type": "code",
   "execution_count": 37,
   "id": "f38999f4-c0b2-454c-acf9-b73714a892ab",
   "metadata": {},
   "outputs": [
    {
     "name": "stdout",
     "output_type": "stream",
     "text": [
      "2 raised to the power of 3 is 8\n"
     ]
    }
   ],
   "source": [
    "#24.Python Program to Compute the Power of a Number\n",
    "\n",
    "def power(base, exponent):\n",
    "    return base ** exponent\n",
    "\n",
    "base = 2\n",
    "exponent = 3\n",
    "result = power(base, exponent)\n",
    "print(f\"{base} raised to the power of {exponent} is {result}\")"
   ]
  },
  {
   "cell_type": "code",
   "execution_count": 39,
   "id": "0a862158-fbd9-49be-9bcf-edbf5d7cdf2f",
   "metadata": {},
   "outputs": [
    {
     "name": "stdout",
     "output_type": "stream",
     "text": [
      "File not found.\n"
     ]
    }
   ],
   "source": [
    "#25.Python Program to Check the File Size\n",
    "\n",
    "import os\n",
    "\n",
    "def get_file_size(file_path):\n",
    "    try:\n",
    "        size = os.path.getsize(file_path)\n",
    "        return size\n",
    "    except FileNotFoundError:\n",
    "        return \"File not found.\"\n",
    "\n",
    "file_path = \"/content/drive/MyDrive/Python Programming/source.txt\"\n",
    "size = get_file_size(file_path)\n",
    "\n",
    "if isinstance(size, int):\n",
    "    print(f\"The size of '{file_path}' is {size} bytes.\")\n",
    "else:\n",
    "    print(size)"
   ]
  },
  {
   "cell_type": "code",
   "execution_count": 41,
   "id": "d957ec8b-b34b-441a-8067-5d2335ba4ac7",
   "metadata": {},
   "outputs": [
    {
     "name": "stdout",
     "output_type": "stream",
     "text": [
      "List1 item: 1, List2 item: a\n",
      "List1 item: 2, List2 item: b\n",
      "List1 item: 3, List2 item: c\n"
     ]
    }
   ],
   "source": [
    "#26.Python Program to Iterate Through Two Lists in Parallel\n",
    "\n",
    "list1 = [1, 2, 3]\n",
    "list2 = ['a', 'b', 'c']\n",
    "\n",
    "for item1, item2 in zip(list1, list2):\n",
    "    print(f\"List1 item: {item1}, List2 item: {item2}\")"
   ]
  },
  {
   "cell_type": "code",
   "execution_count": 43,
   "id": "02ca0432-8700-471b-8697-88f6052a2226",
   "metadata": {},
   "outputs": [
    {
     "name": "stdout",
     "output_type": "stream",
     "text": [
      "C:\\Users\\navod\n"
     ]
    }
   ],
   "source": [
    "#27.Python Program to Get the Full Path of the Current Working Directory\n",
    "\n",
    "import os\n",
    "\n",
    "current_directory = os.getcwd()\n",
    "print(current_directory)"
   ]
  },
  {
   "cell_type": "code",
   "execution_count": 45,
   "id": "6cd9b614-674e-4637-96f7-f1737b11673c",
   "metadata": {},
   "outputs": [
    {
     "name": "stdout",
     "output_type": "stream",
     "text": [
      "Sum: 15\n",
      "Difference: 5\n",
      "Product: 50\n"
     ]
    }
   ],
   "source": [
    "#28.Python Program to Return Multiple Values From a Function\n",
    "\n",
    "def calculate_operations(a, b):\n",
    "    sum_result = a + b\n",
    "    difference = a - b\n",
    "    product = a * b\n",
    "    return sum_result, difference, product\n",
    "\n",
    "a = 10\n",
    "b = 5\n",
    "sum_result, difference, product = calculate_operations(a, b)\n",
    "\n",
    "\n",
    "print(f\"Sum: {sum_result}\")\n",
    "print(f\"Difference: {difference}\")\n",
    "print(f\"Product: {product}\")"
   ]
  },
  {
   "cell_type": "code",
   "execution_count": null,
   "id": "19db29ca-0938-44d6-ae6e-19b1ab6eefb5",
   "metadata": {},
   "outputs": [],
   "source": []
  }
 ],
 "metadata": {
  "kernelspec": {
   "display_name": "Python [conda env:base] *",
   "language": "python",
   "name": "conda-base-py"
  },
  "language_info": {
   "codemirror_mode": {
    "name": "ipython",
    "version": 3
   },
   "file_extension": ".py",
   "mimetype": "text/x-python",
   "name": "python",
   "nbconvert_exporter": "python",
   "pygments_lexer": "ipython3",
   "version": "3.12.8"
  }
 },
 "nbformat": 4,
 "nbformat_minor": 5
}
