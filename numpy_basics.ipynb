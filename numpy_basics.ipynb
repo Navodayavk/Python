{
 "cells": [
  {
   "cell_type": "code",
   "execution_count": 1,
   "id": "e04f60e0-4c85-484c-ae31-739deff92195",
   "metadata": {},
   "outputs": [],
   "source": [
    "import numpy as np"
   ]
  },
  {
   "cell_type": "code",
   "execution_count": 3,
   "id": "00bcf440-800b-41f7-b05d-0b09f582d31f",
   "metadata": {},
   "outputs": [
    {
     "data": {
      "text/plain": [
       "array([10, 20, 30, 40])"
      ]
     },
     "execution_count": 3,
     "metadata": {},
     "output_type": "execute_result"
    }
   ],
   "source": [
    "n1=np.array([10,20,30,40])\n",
    "n1"
   ]
  },
  {
   "cell_type": "code",
   "execution_count": 5,
   "id": "5043c26b-4918-4c59-a824-225768375487",
   "metadata": {},
   "outputs": [
    {
     "name": "stdout",
     "output_type": "stream",
     "text": [
      "[10 20 30 40]\n"
     ]
    }
   ],
   "source": [
    "print(n1)"
   ]
  },
  {
   "cell_type": "code",
   "execution_count": 7,
   "id": "65756c09-f13c-4faf-96d7-27e52463a272",
   "metadata": {},
   "outputs": [
    {
     "name": "stdout",
     "output_type": "stream",
     "text": [
      "30\n"
     ]
    }
   ],
   "source": [
    "print(n1[2])"
   ]
  },
  {
   "cell_type": "code",
   "execution_count": 9,
   "id": "b967f265-57ff-492f-b653-a4b411e3ee56",
   "metadata": {},
   "outputs": [
    {
     "data": {
      "text/plain": [
       "numpy.ndarray"
      ]
     },
     "execution_count": 9,
     "metadata": {},
     "output_type": "execute_result"
    }
   ],
   "source": [
    "type(n1)"
   ]
  },
  {
   "cell_type": "code",
   "execution_count": 11,
   "id": "addcd1c5-3eee-4a6a-851d-c37efa78ba04",
   "metadata": {},
   "outputs": [
    {
     "data": {
      "text/plain": [
       "array([[10, 30, 50],\n",
       "       [20, 40, 60]])"
      ]
     },
     "execution_count": 11,
     "metadata": {},
     "output_type": "execute_result"
    }
   ],
   "source": [
    "n2=np.array([[10,30,50],[20,40,60]])\n",
    "n2\n",
    "    "
   ]
  },
  {
   "cell_type": "code",
   "execution_count": 13,
   "id": "eeffc5f4-c0fa-4661-9fea-dc153f0c638e",
   "metadata": {},
   "outputs": [
    {
     "name": "stdout",
     "output_type": "stream",
     "text": [
      "[[10 30 50]\n",
      " [20 40 60]]\n"
     ]
    }
   ],
   "source": [
    "print(n2)"
   ]
  },
  {
   "cell_type": "code",
   "execution_count": 15,
   "id": "069824ec-fef0-415e-a0f2-2bed1ca56888",
   "metadata": {},
   "outputs": [
    {
     "data": {
      "text/plain": [
       "numpy.ndarray"
      ]
     },
     "execution_count": 15,
     "metadata": {},
     "output_type": "execute_result"
    }
   ],
   "source": [
    "type(n2)"
   ]
  },
  {
   "cell_type": "code",
   "execution_count": 17,
   "id": "a4f8b377-10d8-460f-a417-6006b306315a",
   "metadata": {},
   "outputs": [
    {
     "data": {
      "text/plain": [
       "array([[0., 0.]])"
      ]
     },
     "execution_count": 17,
     "metadata": {},
     "output_type": "execute_result"
    }
   ],
   "source": [
    "n3 = np.zeros((1,2))\n",
    "n3"
   ]
  },
  {
   "cell_type": "code",
   "execution_count": 19,
   "id": "27d310c0-0f1a-4c50-839c-c5cde143e2ec",
   "metadata": {},
   "outputs": [
    {
     "data": {
      "text/plain": [
       "numpy.ndarray"
      ]
     },
     "execution_count": 19,
     "metadata": {},
     "output_type": "execute_result"
    }
   ],
   "source": [
    "type(n3)"
   ]
  },
  {
   "cell_type": "code",
   "execution_count": 21,
   "id": "75fe6273-9ce2-4479-95fc-2c9b57f96d40",
   "metadata": {},
   "outputs": [
    {
     "data": {
      "text/plain": [
       "array([[0., 0., 0.],\n",
       "       [0., 0., 0.],\n",
       "       [0., 0., 0.]])"
      ]
     },
     "execution_count": 21,
     "metadata": {},
     "output_type": "execute_result"
    }
   ],
   "source": [
    "n4 = np.zeros((3,3))\n",
    "n4"
   ]
  },
  {
   "cell_type": "code",
   "execution_count": 23,
   "id": "2bdba920-57c1-4561-b610-684288f7e565",
   "metadata": {},
   "outputs": [
    {
     "data": {
      "text/plain": [
       "array([[14, 14],\n",
       "       [14, 14]])"
      ]
     },
     "execution_count": 23,
     "metadata": {},
     "output_type": "execute_result"
    }
   ],
   "source": [
    "n5 = np.full((2,2),14)\n",
    "n5"
   ]
  },
  {
   "cell_type": "code",
   "execution_count": 25,
   "id": "10b5ed2f-5ce1-4cd8-9060-4af9657bb73f",
   "metadata": {},
   "outputs": [
    {
     "data": {
      "text/plain": [
       "array([1, 2, 3, 4, 5, 6, 7, 8, 9])"
      ]
     },
     "execution_count": 25,
     "metadata": {},
     "output_type": "execute_result"
    }
   ],
   "source": [
    "\n",
    "n6 = np.arange(1,10)\n",
    "n6"
   ]
  },
  {
   "cell_type": "code",
   "execution_count": 27,
   "id": "9b9f2709-4a77-4876-9862-b838b8b72968",
   "metadata": {},
   "outputs": [
    {
     "data": {
      "text/plain": [
       "array([ 5, 10, 15, 20, 25, 30, 35, 40, 45])"
      ]
     },
     "execution_count": 27,
     "metadata": {},
     "output_type": "execute_result"
    }
   ],
   "source": [
    "n7 = np.arange(5,50,5)\n",
    "n7"
   ]
  },
  {
   "cell_type": "code",
   "execution_count": 29,
   "id": "ee87f42e-a977-4f5d-9b92-dfc2f04c30d2",
   "metadata": {},
   "outputs": [
    {
     "data": {
      "text/plain": [
       "array([13, 46, 94, 16, 75, 27])"
      ]
     },
     "execution_count": 29,
     "metadata": {},
     "output_type": "execute_result"
    }
   ],
   "source": [
    "n8 = np.random.randint(1,100,6)\n",
    "n8"
   ]
  },
  {
   "cell_type": "code",
   "execution_count": 31,
   "id": "6bf0dd18-6335-4154-a23d-5369a862365e",
   "metadata": {},
   "outputs": [
    {
     "data": {
      "text/plain": [
       "(2, 3)"
      ]
     },
     "execution_count": 31,
     "metadata": {},
     "output_type": "execute_result"
    }
   ],
   "source": [
    "n9 = np.array([[1,2,3],[4,5,6]])\n",
    "n9.shape"
   ]
  },
  {
   "cell_type": "code",
   "execution_count": 33,
   "id": "9688e94f-8e98-4629-be83-bac64866bb0f",
   "metadata": {},
   "outputs": [
    {
     "data": {
      "text/plain": [
       "array([[1, 2],\n",
       "       [3, 4],\n",
       "       [5, 6]])"
      ]
     },
     "execution_count": 33,
     "metadata": {},
     "output_type": "execute_result"
    }
   ],
   "source": [
    "n9.shape = (3,2)\n",
    "n9"
   ]
  },
  {
   "cell_type": "code",
   "execution_count": 35,
   "id": "1fc3a21c-ac1c-44d3-8594-3e11776476d7",
   "metadata": {},
   "outputs": [
    {
     "data": {
      "text/plain": [
       "array([1, 2, 3])"
      ]
     },
     "execution_count": 35,
     "metadata": {},
     "output_type": "execute_result"
    }
   ],
   "source": [
    "n11 = np.array([1,2,3])\n",
    "n12 = np.array([4,5,6])\n",
    "n11"
   ]
  },
  {
   "cell_type": "code",
   "execution_count": 37,
   "id": "38c2a7b7-2f71-4908-b6f8-28c9c113f47c",
   "metadata": {},
   "outputs": [
    {
     "data": {
      "text/plain": [
       "array([4, 5, 6])"
      ]
     },
     "execution_count": 37,
     "metadata": {},
     "output_type": "execute_result"
    }
   ],
   "source": [
    "n12"
   ]
  },
  {
   "cell_type": "code",
   "execution_count": 39,
   "id": "2c5d2c99-d79f-42a2-a29a-666699db7cc2",
   "metadata": {},
   "outputs": [
    {
     "data": {
      "text/plain": [
       "array([[1, 2, 3],\n",
       "       [4, 5, 6]])"
      ]
     },
     "execution_count": 39,
     "metadata": {},
     "output_type": "execute_result"
    }
   ],
   "source": [
    "np.vstack((n11,n12))"
   ]
  },
  {
   "cell_type": "code",
   "execution_count": 41,
   "id": "411a5cda-2ee7-4815-8a82-1aea2424140a",
   "metadata": {},
   "outputs": [
    {
     "data": {
      "text/plain": [
       "array([1, 2, 3, 4, 5, 6])"
      ]
     },
     "execution_count": 41,
     "metadata": {},
     "output_type": "execute_result"
    }
   ],
   "source": [
    "np.hstack((n11,n12))"
   ]
  },
  {
   "cell_type": "code",
   "execution_count": 43,
   "id": "0f9ec99e-fc84-4738-8e80-11f1253b09f5",
   "metadata": {},
   "outputs": [
    {
     "data": {
      "text/plain": [
       "array([[1, 4],\n",
       "       [2, 5],\n",
       "       [3, 6]])"
      ]
     },
     "execution_count": 43,
     "metadata": {},
     "output_type": "execute_result"
    }
   ],
   "source": [
    "np.column_stack((n11,n12))"
   ]
  },
  {
   "cell_type": "code",
   "execution_count": 45,
   "id": "07c8cfe1-a323-45ca-aa58-5b29b9b6a429",
   "metadata": {},
   "outputs": [
    {
     "data": {
      "text/plain": [
       "array([10, 20, 30, 40])"
      ]
     },
     "execution_count": 45,
     "metadata": {},
     "output_type": "execute_result"
    }
   ],
   "source": [
    "n13 = np.array([10,20,30,40])\n",
    "n13"
   ]
  },
  {
   "cell_type": "code",
   "execution_count": 47,
   "id": "8934c7d6-6679-4890-bba4-5b1e451739f7",
   "metadata": {},
   "outputs": [
    {
     "data": {
      "text/plain": [
       "array([40, 20, 50, 60])"
      ]
     },
     "execution_count": 47,
     "metadata": {},
     "output_type": "execute_result"
    }
   ],
   "source": [
    "n14 = np.array([40,20,50,60])\n",
    "n14"
   ]
  },
  {
   "cell_type": "code",
   "execution_count": 49,
   "id": "d553152b-8df4-4322-8dc3-9622969d6d19",
   "metadata": {},
   "outputs": [
    {
     "data": {
      "text/plain": [
       "array([20, 40])"
      ]
     },
     "execution_count": 49,
     "metadata": {},
     "output_type": "execute_result"
    }
   ],
   "source": [
    "np.intersect1d(n13,n14)"
   ]
  },
  {
   "cell_type": "code",
   "execution_count": 51,
   "id": "bf092d74-b151-48f1-8907-1b0f9e230ccc",
   "metadata": {},
   "outputs": [
    {
     "data": {
      "text/plain": [
       "array([10, 30])"
      ]
     },
     "execution_count": 51,
     "metadata": {},
     "output_type": "execute_result"
    }
   ],
   "source": [
    "np.setdiff1d(n13,n14)"
   ]
  },
  {
   "cell_type": "code",
   "execution_count": 53,
   "id": "0659f076-8783-473d-a3c9-2c818cdfdab3",
   "metadata": {},
   "outputs": [
    {
     "data": {
      "text/plain": [
       "array([50, 60])"
      ]
     },
     "execution_count": 53,
     "metadata": {},
     "output_type": "execute_result"
    }
   ],
   "source": [
    "np.setdiff1d(n14,n13)"
   ]
  },
  {
   "cell_type": "code",
   "execution_count": 55,
   "id": "46300004-699a-41c3-8437-604722a17af8",
   "metadata": {},
   "outputs": [
    {
     "data": {
      "text/plain": [
       "270"
      ]
     },
     "execution_count": 55,
     "metadata": {},
     "output_type": "execute_result"
    }
   ],
   "source": [
    "np.sum([n13,n14])"
   ]
  },
  {
   "cell_type": "code",
   "execution_count": 57,
   "id": "534b353d-72dc-442a-9470-00f94ad9c65c",
   "metadata": {},
   "outputs": [
    {
     "data": {
      "text/plain": [
       "array([ 50,  40,  80, 100])"
      ]
     },
     "execution_count": 57,
     "metadata": {},
     "output_type": "execute_result"
    }
   ],
   "source": [
    "np.sum([n13,n14],axis=0)"
   ]
  },
  {
   "cell_type": "code",
   "execution_count": 59,
   "id": "58909011-cd1c-4a45-9e76-549e4e94de56",
   "metadata": {},
   "outputs": [
    {
     "data": {
      "text/plain": [
       "array([100, 170])"
      ]
     },
     "execution_count": 59,
     "metadata": {},
     "output_type": "execute_result"
    }
   ],
   "source": [
    "np.sum([n13,n14],axis=1)"
   ]
  },
  {
   "cell_type": "code",
   "execution_count": 61,
   "id": "52d2e187-425b-4381-aab6-2c6a3516a58a",
   "metadata": {},
   "outputs": [
    {
     "data": {
      "text/plain": [
       "25.0"
      ]
     },
     "execution_count": 61,
     "metadata": {},
     "output_type": "execute_result"
    }
   ],
   "source": [
    "np.mean([n13])"
   ]
  },
  {
   "cell_type": "code",
   "execution_count": 63,
   "id": "0963ae60-9739-4dfa-8785-2ed05f3b89e2",
   "metadata": {},
   "outputs": [
    {
     "data": {
      "text/plain": [
       "25.0"
      ]
     },
     "execution_count": 63,
     "metadata": {},
     "output_type": "execute_result"
    }
   ],
   "source": [
    "np.median([n13])"
   ]
  },
  {
   "cell_type": "code",
   "execution_count": 65,
   "id": "990cacbe-dfd9-437b-813c-6748cba9958e",
   "metadata": {},
   "outputs": [
    {
     "data": {
      "text/plain": [
       "11.180339887498949"
      ]
     },
     "execution_count": 65,
     "metadata": {},
     "output_type": "execute_result"
    }
   ],
   "source": [
    "np.std([n13])"
   ]
  },
  {
   "cell_type": "code",
   "execution_count": null,
   "id": "88bd24dc-2de3-49b5-940c-969607171e45",
   "metadata": {},
   "outputs": [],
   "source": []
  }
 ],
 "metadata": {
  "kernelspec": {
   "display_name": "Python [conda env:base] *",
   "language": "python",
   "name": "conda-base-py"
  },
  "language_info": {
   "codemirror_mode": {
    "name": "ipython",
    "version": 3
   },
   "file_extension": ".py",
   "mimetype": "text/x-python",
   "name": "python",
   "nbconvert_exporter": "python",
   "pygments_lexer": "ipython3",
   "version": "3.12.8"
  }
 },
 "nbformat": 4,
 "nbformat_minor": 5
}
